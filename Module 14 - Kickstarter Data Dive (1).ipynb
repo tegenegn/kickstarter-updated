{
 "cells": [
  {
   "cell_type": "markdown",
   "metadata": {},
   "source": [
    "# <u>Group Project: Kickstarter Campaign</u>\n",
    "\n",
    "Kickstarter is a company that provides the space for independent artists, creative, innovators, and entrepreneurs to bring their unique projects to life. Kickstarter allows anyone to financially support the project through an online pledging system - this means; anyone can pledge a specific amount of money towards the funding goal of the project. Kickstarter projects (also called campaigns) are all-or-nothing -- meaning, if the funding goal isn't met 100% (or exceeded), the project campaign fails and no funding is provided. The stakes are high - but what is it about certain campaigns that make them succeed while others fail? \n",
    "\n",
    "You have joined the marketing team for Kickstarter and you are tasked with exploring the features of several campaigns over the past few years. You are responsible for looking at this dataset and pulling out key insights about the characteristics of Kickstarter campaigns that make them more likely to succeed or fail. The marketing team at Kickstarter has a limited amount of funds to devote to highlighting specific projects, and they want to highlight projects that have the best chance of succeeding (i.e. meeting the funding goal). Can you help them determine who that might be?\n",
    "\n",
    "Complete the steps below to take a dataset from inception to insights, for the purpose of answering the following two questions:\n",
    "\n",
    "    1. What kinds of projects should the Kickstarter Marking Team focus their attention on?\n",
    "    2. Why should the Marketing Team focus their attention in that direction?\n",
    "\n",
    "After you have combed through the data, your group will put together a presentation (including visualizations), that clearly answers the two questions above. The Kickstarter dataset is posted to Canvas. Complete the code in the notebook below to complete the project. <b> You are NOT restricted to the steps laid out in this notebook to complete your project, You can conduct additional analyses or create additional visualizations. This notebook is everything you need to cover, but feel free to expand on these steps! This includes completing regression analyses with the dataset.</b>"
   ]
  },
  {
   "cell_type": "markdown",
   "metadata": {},
   "source": [
    "## <font color=red>Part 1: Domain Knowledge</font>\n",
    "\n",
    "Before you begin looking at the data, you need to expand your knowledge of the subject matter. Start by visiting www.kickstarter.com and read all you can about the company. What is the objective of the company? How does it work? What does the project timeline look like? You should research the company until you feel comfortable speaking about the basics of Kickstarter projects. Use the space below (double-click the cell to activate) to write a brief paragraph about what you learned about Kickstarter. \n",
    "\n",
    "### <font color=red>Questions to Answer</font>\n",
    "1. What is Kickstarter?\n",
    "2. What is the purpose of Kickstarter?\n",
    "3. Who are the \"backers\" of a Kickstarter campaign?\n",
    "4. How is success determined for a project campaign?\n",
    "\n",
    "****\n",
    "\n",
    "### <font color=red>KICKSTARTER INFORMATION</font>\n",
    "\n",
    "#### Start your paragraph here . . . Be sure to answer all questions in this space!"
   ]
  },
  {
   "cell_type": "markdown",
   "metadata": {},
   "source": [
    "## <font color=darkorange>Part 2: Data Import and Cleaning</font>\n",
    "\n",
    "Now that you are familiar with where the data is coming from, you are ready to start examining the data. The Kickstarter Dataset is a collection of project campaign information from 2016. Data includes information about the project name, length, country of origin, goal, and the amount of money raised, etc. If you open the Kickstarter Dataset in excel, the second tab provides descriptions of each of the columns/variables. Import the dataset into this notebook and follow the steps below to gather information about the data and to clean up the dataset. Use the space below (double-click the cell to activate) to write a brief paragraph describing the dataset and the steps you took while cleaning the data. \n",
    "\n",
    "### <font color=darkorange>Questions to Answer</font>\n",
    "1. How many columns are in the dataset? How many rows?\n",
    "2. What type of variables (continuous, categorical) make up this dataset?\n",
    "3. Which variables have missing values? \n",
    "4. How did you handle the missing data in the dataset?\n",
    "5. How many rows are in your dataset after handling missing data?\n",
    "6. Are there any odd or inappropriate values within a column that don't make sense? If so, what are they?\n",
    "7. What percentage of the each project was funded? In other words, how close were they to reaching the goal? You will need to create a new variable to answer this question.\n",
    "\n",
    "***\n",
    "\n",
    "### <font color=darkorange>DATASET INFORMATION AND CLEANING</font>\n",
    "\n",
    "#### Start your paragraph here . . . Be sure to answer all questions in this space!"
   ]
  },
  {
   "cell_type": "code",
   "execution_count": 8,
   "metadata": {},
   "outputs": [],
   "source": [
    "## import libraries and import Kickstarter dataset\n",
    "import pandas as pd\n",
    "import numpy as np\n",
    "from matplotlib import pyplot as plt\n",
    "%matplotlib inline\n",
    "import statsmodels.formula. api as sm\n",
    "import seaborn as sns\n",
    "\n",
    "## this is a large dataset, we want to see all rows \n",
    "#pd.set_option('display.max_rows', None)\n",
    "\n",
    "\n",
    "## this is a very large dataset, be patient, it may take a while to import!!\n",
    "df = pd.read_excel('kickstarter_Dataset.xlsx')\n",
    "\n"
   ]
  },
  {
   "cell_type": "code",
   "execution_count": 9,
   "metadata": {},
   "outputs": [
    {
     "data": {
      "text/html": [
       "<div>\n",
       "<style scoped>\n",
       "    .dataframe tbody tr th:only-of-type {\n",
       "        vertical-align: middle;\n",
       "    }\n",
       "\n",
       "    .dataframe tbody tr th {\n",
       "        vertical-align: top;\n",
       "    }\n",
       "\n",
       "    .dataframe thead th {\n",
       "        text-align: right;\n",
       "    }\n",
       "</style>\n",
       "<table border=\"1\" class=\"dataframe\">\n",
       "  <thead>\n",
       "    <tr style=\"text-align: right;\">\n",
       "      <th></th>\n",
       "      <th>ID</th>\n",
       "      <th>name</th>\n",
       "      <th>main_category</th>\n",
       "      <th>category</th>\n",
       "      <th>country</th>\n",
       "      <th>currency</th>\n",
       "      <th>launched</th>\n",
       "      <th>deadline</th>\n",
       "      <th>length_days</th>\n",
       "      <th>goal</th>\n",
       "      <th>pledged</th>\n",
       "      <th>usd pledged</th>\n",
       "      <th>backers</th>\n",
       "      <th>state</th>\n",
       "    </tr>\n",
       "  </thead>\n",
       "  <tbody>\n",
       "    <tr>\n",
       "      <th>0</th>\n",
       "      <td>1009317190</td>\n",
       "      <td>French Cuisine</td>\n",
       "      <td>Food</td>\n",
       "      <td>Cookbooks</td>\n",
       "      <td>US</td>\n",
       "      <td>USD</td>\n",
       "      <td>2014-08-09 03:16:02</td>\n",
       "      <td>2014-09-08 00:46:23</td>\n",
       "      <td>29</td>\n",
       "      <td>13730.0</td>\n",
       "      <td>3984.0</td>\n",
       "      <td>3984.000000</td>\n",
       "      <td>46</td>\n",
       "      <td>failed</td>\n",
       "    </tr>\n",
       "    <tr>\n",
       "      <th>1</th>\n",
       "      <td>1618024139</td>\n",
       "      <td>HotRod Henry SUPERCHARGED - the ultimate 3D pr...</td>\n",
       "      <td>Technology</td>\n",
       "      <td>3D Printing</td>\n",
       "      <td>AT</td>\n",
       "      <td>EUR</td>\n",
       "      <td>2016-06-16 16:30:33</td>\n",
       "      <td>2016-07-21 23:59:00</td>\n",
       "      <td>35</td>\n",
       "      <td>75000.0</td>\n",
       "      <td>7386.0</td>\n",
       "      <td>1561.784015</td>\n",
       "      <td>31</td>\n",
       "      <td>failed</td>\n",
       "    </tr>\n",
       "    <tr>\n",
       "      <th>2</th>\n",
       "      <td>2004838949</td>\n",
       "      <td>PHAbulous Philaments - 3D printing: natural an...</td>\n",
       "      <td>Technology</td>\n",
       "      <td>3D Printing</td>\n",
       "      <td>AT</td>\n",
       "      <td>EUR</td>\n",
       "      <td>2015-07-22 12:08:26</td>\n",
       "      <td>2015-08-21 12:08:26</td>\n",
       "      <td>30</td>\n",
       "      <td>15000.0</td>\n",
       "      <td>3834.0</td>\n",
       "      <td>4152.402045</td>\n",
       "      <td>46</td>\n",
       "      <td>failed</td>\n",
       "    </tr>\n",
       "    <tr>\n",
       "      <th>3</th>\n",
       "      <td>258770123</td>\n",
       "      <td>Schokostruder - Chocolate &amp;  Liquid Extruder f...</td>\n",
       "      <td>Technology</td>\n",
       "      <td>3D Printing</td>\n",
       "      <td>AT</td>\n",
       "      <td>EUR</td>\n",
       "      <td>2016-01-25 18:48:09</td>\n",
       "      <td>2016-02-24 18:48:09</td>\n",
       "      <td>30</td>\n",
       "      <td>20000.0</td>\n",
       "      <td>18.0</td>\n",
       "      <td>19.435528</td>\n",
       "      <td>6</td>\n",
       "      <td>failed</td>\n",
       "    </tr>\n",
       "    <tr>\n",
       "      <th>4</th>\n",
       "      <td>690137136</td>\n",
       "      <td>StarterMate - the 3D printing starter kit for ...</td>\n",
       "      <td>Technology</td>\n",
       "      <td>3D Printing</td>\n",
       "      <td>AT</td>\n",
       "      <td>EUR</td>\n",
       "      <td>2015-09-30 00:26:43</td>\n",
       "      <td>2015-11-09 00:26:43</td>\n",
       "      <td>40</td>\n",
       "      <td>20000.0</td>\n",
       "      <td>2598.0</td>\n",
       "      <td>2908.076574</td>\n",
       "      <td>29</td>\n",
       "      <td>failed</td>\n",
       "    </tr>\n",
       "  </tbody>\n",
       "</table>\n",
       "</div>"
      ],
      "text/plain": [
       "           ID                                               name  \\\n",
       "0  1009317190                                     French Cuisine   \n",
       "1  1618024139  HotRod Henry SUPERCHARGED - the ultimate 3D pr...   \n",
       "2  2004838949  PHAbulous Philaments - 3D printing: natural an...   \n",
       "3   258770123  Schokostruder - Chocolate &  Liquid Extruder f...   \n",
       "4   690137136  StarterMate - the 3D printing starter kit for ...   \n",
       "\n",
       "  main_category     category country currency            launched  \\\n",
       "0          Food    Cookbooks      US      USD 2014-08-09 03:16:02   \n",
       "1    Technology  3D Printing      AT      EUR 2016-06-16 16:30:33   \n",
       "2    Technology  3D Printing      AT      EUR 2015-07-22 12:08:26   \n",
       "3    Technology  3D Printing      AT      EUR 2016-01-25 18:48:09   \n",
       "4    Technology  3D Printing      AT      EUR 2015-09-30 00:26:43   \n",
       "\n",
       "             deadline  length_days     goal  pledged  usd pledged  backers  \\\n",
       "0 2014-09-08 00:46:23           29  13730.0   3984.0  3984.000000       46   \n",
       "1 2016-07-21 23:59:00           35  75000.0   7386.0  1561.784015       31   \n",
       "2 2015-08-21 12:08:26           30  15000.0   3834.0  4152.402045       46   \n",
       "3 2016-02-24 18:48:09           30  20000.0     18.0    19.435528        6   \n",
       "4 2015-11-09 00:26:43           40  20000.0   2598.0  2908.076574       29   \n",
       "\n",
       "    state  \n",
       "0  failed  \n",
       "1  failed  \n",
       "2  failed  \n",
       "3  failed  \n",
       "4  failed  "
      ]
     },
     "execution_count": 9,
     "metadata": {},
     "output_type": "execute_result"
    }
   ],
   "source": [
    "df.head()"
   ]
  },
  {
   "cell_type": "code",
   "execution_count": 10,
   "metadata": {},
   "outputs": [
    {
     "name": "stdout",
     "output_type": "stream",
     "text": [
      "<class 'pandas.core.frame.DataFrame'>\n",
      "RangeIndex: 281856 entries, 0 to 281855\n",
      "Data columns (total 14 columns):\n",
      " #   Column         Non-Null Count   Dtype         \n",
      "---  ------         --------------   -----         \n",
      " 0   ID             281856 non-null  int64         \n",
      " 1   name           281821 non-null  object        \n",
      " 2   main_category  281856 non-null  object        \n",
      " 3   category       281856 non-null  object        \n",
      " 4   country        281856 non-null  object        \n",
      " 5   currency       281856 non-null  object        \n",
      " 6   launched       281856 non-null  datetime64[ns]\n",
      " 7   deadline       281856 non-null  datetime64[ns]\n",
      " 8   length_days    281856 non-null  int64         \n",
      " 9   goal           281856 non-null  float64       \n",
      " 10  pledged        281856 non-null  float64       \n",
      " 11  usd pledged    281646 non-null  float64       \n",
      " 12  backers        281856 non-null  int64         \n",
      " 13  state          281856 non-null  object        \n",
      "dtypes: datetime64[ns](2), float64(3), int64(3), object(6)\n",
      "memory usage: 30.1+ MB\n"
     ]
    }
   ],
   "source": [
    "df.info()"
   ]
  },
  {
   "cell_type": "code",
   "execution_count": 11,
   "metadata": {},
   "outputs": [
    {
     "data": {
      "text/plain": [
       "(281856, 14)"
      ]
     },
     "execution_count": 11,
     "metadata": {},
     "output_type": "execute_result"
    }
   ],
   "source": [
    "## determine dataset shape (number of rows and columns)\n",
    "df.shape\n"
   ]
  },
  {
   "cell_type": "code",
   "execution_count": 12,
   "metadata": {},
   "outputs": [
    {
     "name": "stdout",
     "output_type": "stream",
     "text": [
      "<class 'pandas.core.frame.DataFrame'>\n",
      "RangeIndex: 281856 entries, 0 to 281855\n",
      "Data columns (total 14 columns):\n",
      " #   Column         Non-Null Count   Dtype         \n",
      "---  ------         --------------   -----         \n",
      " 0   ID             281856 non-null  int64         \n",
      " 1   name           281821 non-null  object        \n",
      " 2   main_category  281856 non-null  object        \n",
      " 3   category       281856 non-null  object        \n",
      " 4   country        281856 non-null  object        \n",
      " 5   currency       281856 non-null  object        \n",
      " 6   launched       281856 non-null  datetime64[ns]\n",
      " 7   deadline       281856 non-null  datetime64[ns]\n",
      " 8   length_days    281856 non-null  int64         \n",
      " 9   goal           281856 non-null  float64       \n",
      " 10  pledged        281856 non-null  float64       \n",
      " 11  usd pledged    281646 non-null  float64       \n",
      " 12  backers        281856 non-null  int64         \n",
      " 13  state          281856 non-null  object        \n",
      "dtypes: datetime64[ns](2), float64(3), int64(3), object(6)\n",
      "memory usage: 30.1+ MB\n"
     ]
    }
   ],
   "source": [
    "## determine dataset features (info) and data types\n",
    "df.info()\n"
   ]
  },
  {
   "cell_type": "code",
   "execution_count": 13,
   "metadata": {},
   "outputs": [
    {
     "data": {
      "text/plain": [
       "ID                 0\n",
       "name              35\n",
       "main_category      0\n",
       "category           0\n",
       "country            0\n",
       "currency           0\n",
       "launched           0\n",
       "deadline           0\n",
       "length_days        0\n",
       "goal               0\n",
       "pledged            0\n",
       "usd pledged      210\n",
       "backers            0\n",
       "state              0\n",
       "dtype: int64"
      ]
     },
     "execution_count": 13,
     "metadata": {},
     "output_type": "execute_result"
    }
   ],
   "source": [
    "## determine which variables have missing data \n",
    "\n",
    "df.isnull().sum()"
   ]
  },
  {
   "cell_type": "code",
   "execution_count": 14,
   "metadata": {},
   "outputs": [
    {
     "data": {
      "text/html": [
       "<div>\n",
       "<style scoped>\n",
       "    .dataframe tbody tr th:only-of-type {\n",
       "        vertical-align: middle;\n",
       "    }\n",
       "\n",
       "    .dataframe tbody tr th {\n",
       "        vertical-align: top;\n",
       "    }\n",
       "\n",
       "    .dataframe thead th {\n",
       "        text-align: right;\n",
       "    }\n",
       "</style>\n",
       "<table border=\"1\" class=\"dataframe\">\n",
       "  <thead>\n",
       "    <tr style=\"text-align: right;\">\n",
       "      <th></th>\n",
       "      <th>ID</th>\n",
       "      <th>name</th>\n",
       "      <th>main_category</th>\n",
       "      <th>category</th>\n",
       "      <th>country</th>\n",
       "      <th>currency</th>\n",
       "      <th>launched</th>\n",
       "      <th>deadline</th>\n",
       "      <th>length_days</th>\n",
       "      <th>goal</th>\n",
       "      <th>pledged</th>\n",
       "      <th>usd pledged</th>\n",
       "      <th>backers</th>\n",
       "      <th>state</th>\n",
       "    </tr>\n",
       "  </thead>\n",
       "  <tbody>\n",
       "    <tr>\n",
       "      <th>0</th>\n",
       "      <td>1009317190</td>\n",
       "      <td>French Cuisine</td>\n",
       "      <td>Food</td>\n",
       "      <td>Cookbooks</td>\n",
       "      <td>US</td>\n",
       "      <td>USD</td>\n",
       "      <td>2014-08-09 03:16:02</td>\n",
       "      <td>2014-09-08 00:46:23</td>\n",
       "      <td>29</td>\n",
       "      <td>13730.0</td>\n",
       "      <td>3984.0</td>\n",
       "      <td>3984.000000</td>\n",
       "      <td>46</td>\n",
       "      <td>failed</td>\n",
       "    </tr>\n",
       "    <tr>\n",
       "      <th>1</th>\n",
       "      <td>1618024139</td>\n",
       "      <td>HotRod Henry SUPERCHARGED - the ultimate 3D pr...</td>\n",
       "      <td>Technology</td>\n",
       "      <td>3D Printing</td>\n",
       "      <td>AT</td>\n",
       "      <td>EUR</td>\n",
       "      <td>2016-06-16 16:30:33</td>\n",
       "      <td>2016-07-21 23:59:00</td>\n",
       "      <td>35</td>\n",
       "      <td>75000.0</td>\n",
       "      <td>7386.0</td>\n",
       "      <td>1561.784015</td>\n",
       "      <td>31</td>\n",
       "      <td>failed</td>\n",
       "    </tr>\n",
       "    <tr>\n",
       "      <th>2</th>\n",
       "      <td>2004838949</td>\n",
       "      <td>PHAbulous Philaments - 3D printing: natural an...</td>\n",
       "      <td>Technology</td>\n",
       "      <td>3D Printing</td>\n",
       "      <td>AT</td>\n",
       "      <td>EUR</td>\n",
       "      <td>2015-07-22 12:08:26</td>\n",
       "      <td>2015-08-21 12:08:26</td>\n",
       "      <td>30</td>\n",
       "      <td>15000.0</td>\n",
       "      <td>3834.0</td>\n",
       "      <td>4152.402045</td>\n",
       "      <td>46</td>\n",
       "      <td>failed</td>\n",
       "    </tr>\n",
       "    <tr>\n",
       "      <th>3</th>\n",
       "      <td>258770123</td>\n",
       "      <td>Schokostruder - Chocolate &amp;  Liquid Extruder f...</td>\n",
       "      <td>Technology</td>\n",
       "      <td>3D Printing</td>\n",
       "      <td>AT</td>\n",
       "      <td>EUR</td>\n",
       "      <td>2016-01-25 18:48:09</td>\n",
       "      <td>2016-02-24 18:48:09</td>\n",
       "      <td>30</td>\n",
       "      <td>20000.0</td>\n",
       "      <td>18.0</td>\n",
       "      <td>19.435528</td>\n",
       "      <td>6</td>\n",
       "      <td>failed</td>\n",
       "    </tr>\n",
       "    <tr>\n",
       "      <th>4</th>\n",
       "      <td>690137136</td>\n",
       "      <td>StarterMate - the 3D printing starter kit for ...</td>\n",
       "      <td>Technology</td>\n",
       "      <td>3D Printing</td>\n",
       "      <td>AT</td>\n",
       "      <td>EUR</td>\n",
       "      <td>2015-09-30 00:26:43</td>\n",
       "      <td>2015-11-09 00:26:43</td>\n",
       "      <td>40</td>\n",
       "      <td>20000.0</td>\n",
       "      <td>2598.0</td>\n",
       "      <td>2908.076574</td>\n",
       "      <td>29</td>\n",
       "      <td>failed</td>\n",
       "    </tr>\n",
       "  </tbody>\n",
       "</table>\n",
       "</div>"
      ],
      "text/plain": [
       "           ID                                               name  \\\n",
       "0  1009317190                                     French Cuisine   \n",
       "1  1618024139  HotRod Henry SUPERCHARGED - the ultimate 3D pr...   \n",
       "2  2004838949  PHAbulous Philaments - 3D printing: natural an...   \n",
       "3   258770123  Schokostruder - Chocolate &  Liquid Extruder f...   \n",
       "4   690137136  StarterMate - the 3D printing starter kit for ...   \n",
       "\n",
       "  main_category     category country currency            launched  \\\n",
       "0          Food    Cookbooks      US      USD 2014-08-09 03:16:02   \n",
       "1    Technology  3D Printing      AT      EUR 2016-06-16 16:30:33   \n",
       "2    Technology  3D Printing      AT      EUR 2015-07-22 12:08:26   \n",
       "3    Technology  3D Printing      AT      EUR 2016-01-25 18:48:09   \n",
       "4    Technology  3D Printing      AT      EUR 2015-09-30 00:26:43   \n",
       "\n",
       "             deadline  length_days     goal  pledged  usd pledged  backers  \\\n",
       "0 2014-09-08 00:46:23           29  13730.0   3984.0  3984.000000       46   \n",
       "1 2016-07-21 23:59:00           35  75000.0   7386.0  1561.784015       31   \n",
       "2 2015-08-21 12:08:26           30  15000.0   3834.0  4152.402045       46   \n",
       "3 2016-02-24 18:48:09           30  20000.0     18.0    19.435528        6   \n",
       "4 2015-11-09 00:26:43           40  20000.0   2598.0  2908.076574       29   \n",
       "\n",
       "    state  \n",
       "0  failed  \n",
       "1  failed  \n",
       "2  failed  \n",
       "3  failed  \n",
       "4  failed  "
      ]
     },
     "execution_count": 14,
     "metadata": {},
     "output_type": "execute_result"
    }
   ],
   "source": [
    "## handling missing data\n",
    "\n",
    "## fill all the missing values in \"name\" with \"Unknown Project Name\"\n",
    "\n",
    "df['name'].fillna('Unknown', inplace = True)\n",
    "\n",
    "## drop all the rows where \"usd pledged\" is missing\n",
    "df.head()\n"
   ]
  },
  {
   "cell_type": "code",
   "execution_count": 15,
   "metadata": {},
   "outputs": [
    {
     "data": {
      "text/html": [
       "<div>\n",
       "<style scoped>\n",
       "    .dataframe tbody tr th:only-of-type {\n",
       "        vertical-align: middle;\n",
       "    }\n",
       "\n",
       "    .dataframe tbody tr th {\n",
       "        vertical-align: top;\n",
       "    }\n",
       "\n",
       "    .dataframe thead th {\n",
       "        text-align: right;\n",
       "    }\n",
       "</style>\n",
       "<table border=\"1\" class=\"dataframe\">\n",
       "  <thead>\n",
       "    <tr style=\"text-align: right;\">\n",
       "      <th></th>\n",
       "      <th>ID</th>\n",
       "      <th>name</th>\n",
       "      <th>main_category</th>\n",
       "      <th>category</th>\n",
       "      <th>country</th>\n",
       "      <th>currency</th>\n",
       "      <th>launched</th>\n",
       "      <th>deadline</th>\n",
       "      <th>length_days</th>\n",
       "      <th>goal</th>\n",
       "      <th>pledged</th>\n",
       "      <th>usd pledged</th>\n",
       "      <th>backers</th>\n",
       "      <th>state</th>\n",
       "    </tr>\n",
       "  </thead>\n",
       "  <tbody>\n",
       "    <tr>\n",
       "      <th>0</th>\n",
       "      <td>1009317190</td>\n",
       "      <td>French Cuisine</td>\n",
       "      <td>Food</td>\n",
       "      <td>Cookbooks</td>\n",
       "      <td>US</td>\n",
       "      <td>USD</td>\n",
       "      <td>2014-08-09 03:16:02</td>\n",
       "      <td>2014-09-08 00:46:23</td>\n",
       "      <td>29</td>\n",
       "      <td>13730.0</td>\n",
       "      <td>3984.0</td>\n",
       "      <td>3984.000000</td>\n",
       "      <td>46</td>\n",
       "      <td>failed</td>\n",
       "    </tr>\n",
       "    <tr>\n",
       "      <th>1</th>\n",
       "      <td>1618024139</td>\n",
       "      <td>HotRod Henry SUPERCHARGED - the ultimate 3D pr...</td>\n",
       "      <td>Technology</td>\n",
       "      <td>3D Printing</td>\n",
       "      <td>AT</td>\n",
       "      <td>EUR</td>\n",
       "      <td>2016-06-16 16:30:33</td>\n",
       "      <td>2016-07-21 23:59:00</td>\n",
       "      <td>35</td>\n",
       "      <td>75000.0</td>\n",
       "      <td>7386.0</td>\n",
       "      <td>1561.784015</td>\n",
       "      <td>31</td>\n",
       "      <td>failed</td>\n",
       "    </tr>\n",
       "    <tr>\n",
       "      <th>2</th>\n",
       "      <td>2004838949</td>\n",
       "      <td>PHAbulous Philaments - 3D printing: natural an...</td>\n",
       "      <td>Technology</td>\n",
       "      <td>3D Printing</td>\n",
       "      <td>AT</td>\n",
       "      <td>EUR</td>\n",
       "      <td>2015-07-22 12:08:26</td>\n",
       "      <td>2015-08-21 12:08:26</td>\n",
       "      <td>30</td>\n",
       "      <td>15000.0</td>\n",
       "      <td>3834.0</td>\n",
       "      <td>4152.402045</td>\n",
       "      <td>46</td>\n",
       "      <td>failed</td>\n",
       "    </tr>\n",
       "    <tr>\n",
       "      <th>3</th>\n",
       "      <td>258770123</td>\n",
       "      <td>Schokostruder - Chocolate &amp;  Liquid Extruder f...</td>\n",
       "      <td>Technology</td>\n",
       "      <td>3D Printing</td>\n",
       "      <td>AT</td>\n",
       "      <td>EUR</td>\n",
       "      <td>2016-01-25 18:48:09</td>\n",
       "      <td>2016-02-24 18:48:09</td>\n",
       "      <td>30</td>\n",
       "      <td>20000.0</td>\n",
       "      <td>18.0</td>\n",
       "      <td>19.435528</td>\n",
       "      <td>6</td>\n",
       "      <td>failed</td>\n",
       "    </tr>\n",
       "    <tr>\n",
       "      <th>4</th>\n",
       "      <td>690137136</td>\n",
       "      <td>StarterMate - the 3D printing starter kit for ...</td>\n",
       "      <td>Technology</td>\n",
       "      <td>3D Printing</td>\n",
       "      <td>AT</td>\n",
       "      <td>EUR</td>\n",
       "      <td>2015-09-30 00:26:43</td>\n",
       "      <td>2015-11-09 00:26:43</td>\n",
       "      <td>40</td>\n",
       "      <td>20000.0</td>\n",
       "      <td>2598.0</td>\n",
       "      <td>2908.076574</td>\n",
       "      <td>29</td>\n",
       "      <td>failed</td>\n",
       "    </tr>\n",
       "  </tbody>\n",
       "</table>\n",
       "</div>"
      ],
      "text/plain": [
       "           ID                                               name  \\\n",
       "0  1009317190                                     French Cuisine   \n",
       "1  1618024139  HotRod Henry SUPERCHARGED - the ultimate 3D pr...   \n",
       "2  2004838949  PHAbulous Philaments - 3D printing: natural an...   \n",
       "3   258770123  Schokostruder - Chocolate &  Liquid Extruder f...   \n",
       "4   690137136  StarterMate - the 3D printing starter kit for ...   \n",
       "\n",
       "  main_category     category country currency            launched  \\\n",
       "0          Food    Cookbooks      US      USD 2014-08-09 03:16:02   \n",
       "1    Technology  3D Printing      AT      EUR 2016-06-16 16:30:33   \n",
       "2    Technology  3D Printing      AT      EUR 2015-07-22 12:08:26   \n",
       "3    Technology  3D Printing      AT      EUR 2016-01-25 18:48:09   \n",
       "4    Technology  3D Printing      AT      EUR 2015-09-30 00:26:43   \n",
       "\n",
       "             deadline  length_days     goal  pledged  usd pledged  backers  \\\n",
       "0 2014-09-08 00:46:23           29  13730.0   3984.0  3984.000000       46   \n",
       "1 2016-07-21 23:59:00           35  75000.0   7386.0  1561.784015       31   \n",
       "2 2015-08-21 12:08:26           30  15000.0   3834.0  4152.402045       46   \n",
       "3 2016-02-24 18:48:09           30  20000.0     18.0    19.435528        6   \n",
       "4 2015-11-09 00:26:43           40  20000.0   2598.0  2908.076574       29   \n",
       "\n",
       "    state  \n",
       "0  failed  \n",
       "1  failed  \n",
       "2  failed  \n",
       "3  failed  \n",
       "4  failed  "
      ]
     },
     "execution_count": 15,
     "metadata": {},
     "output_type": "execute_result"
    }
   ],
   "source": [
    "df.dropna(subset = ['usd pledged'], inplace =True)\n",
    "df.head()"
   ]
  },
  {
   "cell_type": "code",
   "execution_count": 16,
   "metadata": {},
   "outputs": [
    {
     "data": {
      "text/plain": [
       "(281646, 14)"
      ]
     },
     "execution_count": 16,
     "metadata": {},
     "output_type": "execute_result"
    }
   ],
   "source": [
    "df.shape"
   ]
  },
  {
   "cell_type": "code",
   "execution_count": 17,
   "metadata": {
    "scrolled": true
   },
   "outputs": [
    {
     "data": {
      "text/plain": [
       "Unknown                                         38\n",
       "New EP/Music Development                        13\n",
       "New EP / Music Development                      10\n",
       "Music Video                                      9\n",
       "Reflections                                      9\n",
       "                                                ..\n",
       "Freak Football - Instructional Video Program     1\n",
       "Intro Vids!                                      1\n",
       "White Heart                                      1\n",
       "Pastor John                                      1\n",
       "Fathers: Balancing Family & Art                  1\n",
       "Name: name, Length: 279890, dtype: int64"
      ]
     },
     "execution_count": 17,
     "metadata": {},
     "output_type": "execute_result"
    }
   ],
   "source": [
    "## inappropriate values in categorical variables; check value counts\n",
    "df['name'].value_counts()\n"
   ]
  },
  {
   "cell_type": "code",
   "execution_count": 18,
   "metadata": {},
   "outputs": [
    {
     "data": {
      "text/html": [
       "<div>\n",
       "<style scoped>\n",
       "    .dataframe tbody tr th:only-of-type {\n",
       "        vertical-align: middle;\n",
       "    }\n",
       "\n",
       "    .dataframe tbody tr th {\n",
       "        vertical-align: top;\n",
       "    }\n",
       "\n",
       "    .dataframe thead th {\n",
       "        text-align: right;\n",
       "    }\n",
       "</style>\n",
       "<table border=\"1\" class=\"dataframe\">\n",
       "  <thead>\n",
       "    <tr style=\"text-align: right;\">\n",
       "      <th></th>\n",
       "      <th>main_category</th>\n",
       "      <th>category</th>\n",
       "      <th>country</th>\n",
       "      <th>currency</th>\n",
       "      <th>length_days</th>\n",
       "      <th>goal</th>\n",
       "      <th>usd pledged</th>\n",
       "      <th>backers</th>\n",
       "      <th>state</th>\n",
       "    </tr>\n",
       "  </thead>\n",
       "  <tbody>\n",
       "    <tr>\n",
       "      <th>0</th>\n",
       "      <td>Food</td>\n",
       "      <td>Cookbooks</td>\n",
       "      <td>US</td>\n",
       "      <td>USD</td>\n",
       "      <td>29</td>\n",
       "      <td>13730.0</td>\n",
       "      <td>3984.000000</td>\n",
       "      <td>46</td>\n",
       "      <td>failed</td>\n",
       "    </tr>\n",
       "    <tr>\n",
       "      <th>1</th>\n",
       "      <td>Technology</td>\n",
       "      <td>3D Printing</td>\n",
       "      <td>AT</td>\n",
       "      <td>EUR</td>\n",
       "      <td>35</td>\n",
       "      <td>75000.0</td>\n",
       "      <td>1561.784015</td>\n",
       "      <td>31</td>\n",
       "      <td>failed</td>\n",
       "    </tr>\n",
       "    <tr>\n",
       "      <th>2</th>\n",
       "      <td>Technology</td>\n",
       "      <td>3D Printing</td>\n",
       "      <td>AT</td>\n",
       "      <td>EUR</td>\n",
       "      <td>30</td>\n",
       "      <td>15000.0</td>\n",
       "      <td>4152.402045</td>\n",
       "      <td>46</td>\n",
       "      <td>failed</td>\n",
       "    </tr>\n",
       "    <tr>\n",
       "      <th>3</th>\n",
       "      <td>Technology</td>\n",
       "      <td>3D Printing</td>\n",
       "      <td>AT</td>\n",
       "      <td>EUR</td>\n",
       "      <td>30</td>\n",
       "      <td>20000.0</td>\n",
       "      <td>19.435528</td>\n",
       "      <td>6</td>\n",
       "      <td>failed</td>\n",
       "    </tr>\n",
       "    <tr>\n",
       "      <th>4</th>\n",
       "      <td>Technology</td>\n",
       "      <td>3D Printing</td>\n",
       "      <td>AT</td>\n",
       "      <td>EUR</td>\n",
       "      <td>40</td>\n",
       "      <td>20000.0</td>\n",
       "      <td>2908.076574</td>\n",
       "      <td>29</td>\n",
       "      <td>failed</td>\n",
       "    </tr>\n",
       "  </tbody>\n",
       "</table>\n",
       "</div>"
      ],
      "text/plain": [
       "  main_category     category country currency  length_days     goal  \\\n",
       "0          Food    Cookbooks      US      USD           29  13730.0   \n",
       "1    Technology  3D Printing      AT      EUR           35  75000.0   \n",
       "2    Technology  3D Printing      AT      EUR           30  15000.0   \n",
       "3    Technology  3D Printing      AT      EUR           30  20000.0   \n",
       "4    Technology  3D Printing      AT      EUR           40  20000.0   \n",
       "\n",
       "   usd pledged  backers   state  \n",
       "0  3984.000000       46  failed  \n",
       "1  1561.784015       31  failed  \n",
       "2  4152.402045       46  failed  \n",
       "3    19.435528        6  failed  \n",
       "4  2908.076574       29  failed  "
      ]
     },
     "execution_count": 18,
     "metadata": {},
     "output_type": "execute_result"
    }
   ],
   "source": [
    "## drop unneeded columns (project ID, name, pledged, launched, deadline)\n",
    "# you will use usd pledged from now on\n",
    "\n",
    "df.drop(columns = ['ID', 'name', 'pledged', 'launched', 'deadline'], inplace =True)\n",
    "df.head()"
   ]
  },
  {
   "cell_type": "code",
   "execution_count": 19,
   "metadata": {},
   "outputs": [
    {
     "data": {
      "text/html": [
       "<div>\n",
       "<style scoped>\n",
       "    .dataframe tbody tr th:only-of-type {\n",
       "        vertical-align: middle;\n",
       "    }\n",
       "\n",
       "    .dataframe tbody tr th {\n",
       "        vertical-align: top;\n",
       "    }\n",
       "\n",
       "    .dataframe thead th {\n",
       "        text-align: right;\n",
       "    }\n",
       "</style>\n",
       "<table border=\"1\" class=\"dataframe\">\n",
       "  <thead>\n",
       "    <tr style=\"text-align: right;\">\n",
       "      <th></th>\n",
       "      <th>main_category</th>\n",
       "      <th>category</th>\n",
       "      <th>country</th>\n",
       "      <th>currency</th>\n",
       "      <th>length_days</th>\n",
       "      <th>goal</th>\n",
       "      <th>usd pledged</th>\n",
       "      <th>backers</th>\n",
       "      <th>state</th>\n",
       "      <th>pct_funded</th>\n",
       "    </tr>\n",
       "  </thead>\n",
       "  <tbody>\n",
       "    <tr>\n",
       "      <th>0</th>\n",
       "      <td>Food</td>\n",
       "      <td>Cookbooks</td>\n",
       "      <td>US</td>\n",
       "      <td>USD</td>\n",
       "      <td>29</td>\n",
       "      <td>13730.0</td>\n",
       "      <td>3984.000000</td>\n",
       "      <td>46</td>\n",
       "      <td>failed</td>\n",
       "      <td>29.016752</td>\n",
       "    </tr>\n",
       "    <tr>\n",
       "      <th>1</th>\n",
       "      <td>Technology</td>\n",
       "      <td>3D Printing</td>\n",
       "      <td>AT</td>\n",
       "      <td>EUR</td>\n",
       "      <td>35</td>\n",
       "      <td>75000.0</td>\n",
       "      <td>1561.784015</td>\n",
       "      <td>31</td>\n",
       "      <td>failed</td>\n",
       "      <td>2.082379</td>\n",
       "    </tr>\n",
       "    <tr>\n",
       "      <th>2</th>\n",
       "      <td>Technology</td>\n",
       "      <td>3D Printing</td>\n",
       "      <td>AT</td>\n",
       "      <td>EUR</td>\n",
       "      <td>30</td>\n",
       "      <td>15000.0</td>\n",
       "      <td>4152.402045</td>\n",
       "      <td>46</td>\n",
       "      <td>failed</td>\n",
       "      <td>27.682680</td>\n",
       "    </tr>\n",
       "    <tr>\n",
       "      <th>3</th>\n",
       "      <td>Technology</td>\n",
       "      <td>3D Printing</td>\n",
       "      <td>AT</td>\n",
       "      <td>EUR</td>\n",
       "      <td>30</td>\n",
       "      <td>20000.0</td>\n",
       "      <td>19.435528</td>\n",
       "      <td>6</td>\n",
       "      <td>failed</td>\n",
       "      <td>0.097178</td>\n",
       "    </tr>\n",
       "    <tr>\n",
       "      <th>4</th>\n",
       "      <td>Technology</td>\n",
       "      <td>3D Printing</td>\n",
       "      <td>AT</td>\n",
       "      <td>EUR</td>\n",
       "      <td>40</td>\n",
       "      <td>20000.0</td>\n",
       "      <td>2908.076574</td>\n",
       "      <td>29</td>\n",
       "      <td>failed</td>\n",
       "      <td>14.540383</td>\n",
       "    </tr>\n",
       "  </tbody>\n",
       "</table>\n",
       "</div>"
      ],
      "text/plain": [
       "  main_category     category country currency  length_days     goal  \\\n",
       "0          Food    Cookbooks      US      USD           29  13730.0   \n",
       "1    Technology  3D Printing      AT      EUR           35  75000.0   \n",
       "2    Technology  3D Printing      AT      EUR           30  15000.0   \n",
       "3    Technology  3D Printing      AT      EUR           30  20000.0   \n",
       "4    Technology  3D Printing      AT      EUR           40  20000.0   \n",
       "\n",
       "   usd pledged  backers   state  pct_funded  \n",
       "0  3984.000000       46  failed   29.016752  \n",
       "1  1561.784015       31  failed    2.082379  \n",
       "2  4152.402045       46  failed   27.682680  \n",
       "3    19.435528        6  failed    0.097178  \n",
       "4  2908.076574       29  failed   14.540383  "
      ]
     },
     "execution_count": 19,
     "metadata": {},
     "output_type": "execute_result"
    }
   ],
   "source": [
    "# create a new column\n",
    "## percentage of project that was funded - how close were they to reaching the goal?\n",
    "\n",
    "df[\"pct_funded\"] = (df[\"usd pledged\"]/df[\"goal\"])*100\n",
    "df.head()"
   ]
  },
  {
   "cell_type": "code",
   "execution_count": 20,
   "metadata": {},
   "outputs": [
    {
     "ename": "SyntaxError",
     "evalue": "invalid syntax (Temp/ipykernel_121832/350678481.py, line 3)",
     "output_type": "error",
     "traceback": [
      "\u001b[1;36m  File \u001b[1;32m\"C:\\Users\\tegen\\AppData\\Local\\Temp/ipykernel_121832/350678481.py\"\u001b[1;36m, line \u001b[1;32m3\u001b[0m\n\u001b[1;33m    With a clean dataset, you are now ready to start exploring the variables in your dataset. Don't worry about how your variables relate to each other - we will cover that in the next section. For now, it's more important that you get a clear sense of the variable characteristics on their own. Follow the steps below to explore all of the variables within your dataset and preform descriptive statistics. In addition to the descriptive statistics, you are tasked with creating a visualizations related to your results. Stylistic choices related to the visualizations is up to your group. Use the space below (double-click the cell to activate) to write a brief paragraph describing the steps you took to explore the data.\u001b[0m\n\u001b[1;37m         ^\u001b[0m\n\u001b[1;31mSyntaxError\u001b[0m\u001b[1;31m:\u001b[0m invalid syntax\n"
     ]
    }
   ],
   "source": [
    "## <font color=#EAC117>Part 3: Exploratory Analysis</font>\n",
    "\n",
    "With a clean dataset, you are now ready to start exploring the variables in your dataset. Don't worry about how your variables relate to each other - we will cover that in the next section. For now, it's more important that you get a clear sense of the variable characteristics on their own. Follow the steps below to explore all of the variables within your dataset and preform descriptive statistics. In addition to the descriptive statistics, you are tasked with creating a visualizations related to your results. Stylistic choices related to the visualizations is up to your group. Use the space below (double-click the cell to activate) to write a brief paragraph describing the steps you took to explore the data. \n",
    "\n",
    "### <font color=#EAC117>Questions to Answer</font>\n",
    "1.\tWhat is the average (mean) for the following variables: goal, usd pledged, backers, and length? \n",
    "2.\tWhat is the maximum value, minimum value, and range for the following variables: goal, usd pledged, backers, and length?\n",
    "3.\tWhat is the most common (mode) length for campaign projects?\n",
    "4.\tConsidering the categorical variables, what is the most frequent main category group? How many projects are classified under this category? What is the most frequent sub-category? How many projects are classified under this category? \n",
    "5.\tConsidering the categorical variables, what is the least frequent main category group? How many projects are classified under this category? What is the least frequent sub-category? How many projects are classified under this category? \n",
    "6.\tWhich country has started the most Kickstarter campaigns?\n",
    "7.\tHow many projects have failed? How many projects have succeeded?\n",
    "\n",
    "### <font color=#EAC117>Visualizations to Create</font> \n",
    "* Number of Projects by Main Category\n",
    "* Number of projects by State (outcome)\n",
    "* Number of projects from each country\n",
    "* Number of successful projects and failed projects by Main Category\n",
    "\n",
    "***\n",
    "\n",
    "### <font color=#EAC117>EXPLORATORY DATA ANALYSIS</font>\n",
    "\n",
    "#### Start your paragraph here . . . Be sure to answer all questions in this space!"
   ]
  },
  {
   "cell_type": "code",
   "execution_count": 21,
   "metadata": {},
   "outputs": [
    {
     "data": {
      "text/plain": [
       "41815.969287154796"
      ]
     },
     "execution_count": 21,
     "metadata": {},
     "output_type": "execute_result"
    }
   ],
   "source": [
    "## output descriptive statistics for numeric variables in the dataset\n",
    "\n",
    "df['goal'].mean()"
   ]
  },
  {
   "cell_type": "code",
   "execution_count": 22,
   "metadata": {},
   "outputs": [
    {
     "data": {
      "text/plain": [
       "8575.848288233132"
      ]
     },
     "execution_count": 22,
     "metadata": {},
     "output_type": "execute_result"
    }
   ],
   "source": [
    "df['usd pledged'].mean()"
   ]
  },
  {
   "cell_type": "code",
   "execution_count": 23,
   "metadata": {},
   "outputs": [
    {
     "data": {
      "text/plain": [
       "111.9348011333376"
      ]
     },
     "execution_count": 23,
     "metadata": {},
     "output_type": "execute_result"
    }
   ],
   "source": [
    "df['backers'].mean()"
   ]
  },
  {
   "cell_type": "code",
   "execution_count": 24,
   "metadata": {},
   "outputs": [
    {
     "data": {
      "text/plain": [
       "33.97652017071075"
      ]
     },
     "execution_count": 24,
     "metadata": {},
     "output_type": "execute_result"
    }
   ],
   "source": [
    "df['length_days'].mean()"
   ]
  },
  {
   "cell_type": "code",
   "execution_count": 25,
   "metadata": {},
   "outputs": [
    {
     "data": {
      "text/plain": [
       "100000000.0"
      ]
     },
     "execution_count": 25,
     "metadata": {},
     "output_type": "execute_result"
    }
   ],
   "source": [
    "df['goal'].max()"
   ]
  },
  {
   "cell_type": "code",
   "execution_count": 26,
   "metadata": {},
   "outputs": [
    {
     "data": {
      "text/plain": [
       "20338986.27"
      ]
     },
     "execution_count": 26,
     "metadata": {},
     "output_type": "execute_result"
    }
   ],
   "source": [
    "df['usd pledged'].max()"
   ]
  },
  {
   "cell_type": "code",
   "execution_count": 27,
   "metadata": {},
   "outputs": [
    {
     "data": {
      "text/plain": [
       "219382"
      ]
     },
     "execution_count": 27,
     "metadata": {},
     "output_type": "execute_result"
    }
   ],
   "source": [
    "df['backers'].max()"
   ]
  },
  {
   "cell_type": "code",
   "execution_count": 28,
   "metadata": {},
   "outputs": [
    {
     "data": {
      "text/plain": [
       "92"
      ]
     },
     "execution_count": 28,
     "metadata": {},
     "output_type": "execute_result"
    }
   ],
   "source": [
    "df['length_days'].max()"
   ]
  },
  {
   "cell_type": "code",
   "execution_count": 29,
   "metadata": {},
   "outputs": [
    {
     "data": {
      "text/plain": [
       "0.01"
      ]
     },
     "execution_count": 29,
     "metadata": {},
     "output_type": "execute_result"
    }
   ],
   "source": [
    "df['goal'].min()"
   ]
  },
  {
   "cell_type": "code",
   "execution_count": 30,
   "metadata": {},
   "outputs": [
    {
     "data": {
      "text/plain": [
       "0.0"
      ]
     },
     "execution_count": 30,
     "metadata": {},
     "output_type": "execute_result"
    }
   ],
   "source": [
    "df['usd pledged'].min()"
   ]
  },
  {
   "cell_type": "code",
   "execution_count": 31,
   "metadata": {},
   "outputs": [
    {
     "data": {
      "text/plain": [
       "0"
      ]
     },
     "execution_count": 31,
     "metadata": {},
     "output_type": "execute_result"
    }
   ],
   "source": [
    "df['backers'].min()"
   ]
  },
  {
   "cell_type": "code",
   "execution_count": 32,
   "metadata": {},
   "outputs": [
    {
     "data": {
      "text/plain": [
       "1"
      ]
     },
     "execution_count": 32,
     "metadata": {},
     "output_type": "execute_result"
    }
   ],
   "source": [
    "df['length_days'].min()"
   ]
  },
  {
   "cell_type": "code",
   "execution_count": 33,
   "metadata": {},
   "outputs": [],
   "source": [
    "## calculate the range for all numeric variables"
   ]
  },
  {
   "cell_type": "code",
   "execution_count": 34,
   "metadata": {},
   "outputs": [
    {
     "name": "stdout",
     "output_type": "stream",
     "text": [
      "99999999.99\n"
     ]
    }
   ],
   "source": [
    "g_range = df['goal'].max() - df['goal'].min()\n",
    "print(g_range)"
   ]
  },
  {
   "cell_type": "code",
   "execution_count": 35,
   "metadata": {},
   "outputs": [
    {
     "name": "stdout",
     "output_type": "stream",
     "text": [
      "20338986.27\n"
     ]
    }
   ],
   "source": [
    "p_range = df['usd pledged'].max() - df['usd pledged'].min()\n",
    "print(p_range)"
   ]
  },
  {
   "cell_type": "code",
   "execution_count": 36,
   "metadata": {},
   "outputs": [
    {
     "name": "stdout",
     "output_type": "stream",
     "text": [
      "219382\n"
     ]
    }
   ],
   "source": [
    "b_range = df['backers'].max() - df['backers'].min()\n",
    "print(b_range)"
   ]
  },
  {
   "cell_type": "code",
   "execution_count": 37,
   "metadata": {},
   "outputs": [
    {
     "name": "stdout",
     "output_type": "stream",
     "text": [
      "91\n"
     ]
    }
   ],
   "source": [
    "l_range = df['length_days'].max() - df['length_days'].min()\n",
    "print(l_range)"
   ]
  },
  {
   "cell_type": "code",
   "execution_count": 38,
   "metadata": {},
   "outputs": [
    {
     "data": {
      "text/plain": [
       "0    5000.0\n",
       "dtype: float64"
      ]
     },
     "execution_count": 38,
     "metadata": {},
     "output_type": "execute_result"
    }
   ],
   "source": [
    "# calculating the mode\n",
    "df['goal'].mode()\n"
   ]
  },
  {
   "cell_type": "code",
   "execution_count": 39,
   "metadata": {},
   "outputs": [
    {
     "data": {
      "text/plain": [
       "0    0.0\n",
       "dtype: float64"
      ]
     },
     "execution_count": 39,
     "metadata": {},
     "output_type": "execute_result"
    }
   ],
   "source": [
    "df['usd pledged'].mode()"
   ]
  },
  {
   "cell_type": "code",
   "execution_count": 40,
   "metadata": {},
   "outputs": [
    {
     "data": {
      "text/plain": [
       "0    0\n",
       "dtype: int64"
      ]
     },
     "execution_count": 40,
     "metadata": {},
     "output_type": "execute_result"
    }
   ],
   "source": [
    "df['backers'].mode()"
   ]
  },
  {
   "cell_type": "code",
   "execution_count": 41,
   "metadata": {},
   "outputs": [
    {
     "data": {
      "text/plain": [
       "0    30\n",
       "dtype: int64"
      ]
     },
     "execution_count": 41,
     "metadata": {},
     "output_type": "execute_result"
    }
   ],
   "source": [
    "df['length_days'].mode()"
   ]
  },
  {
   "cell_type": "code",
   "execution_count": 42,
   "metadata": {},
   "outputs": [
    {
     "data": {
      "text/plain": [
       "Film & Video    51108\n",
       "Music           40868\n",
       "Publishing      30254\n",
       "Games           22429\n",
       "Art             21805\n",
       "Technology      21444\n",
       "Design          20032\n",
       "Food            18899\n",
       "Fashion         15839\n",
       "Theater          9340\n",
       "Photography      8668\n",
       "Comics           7918\n",
       "Crafts           6310\n",
       "Journalism       3537\n",
       "Dance            3195\n",
       "Name: main_category, dtype: int64"
      ]
     },
     "execution_count": 42,
     "metadata": {},
     "output_type": "execute_result"
    }
   ],
   "source": [
    "## frequency of categorical variable groups\n",
    "df['main_category'].value_counts()\n"
   ]
  },
  {
   "cell_type": "code",
   "execution_count": 43,
   "metadata": {},
   "outputs": [],
   "source": [
    "# film and video is the most frequent  in the main category\n",
    "# there are 51108 projects under this category\n",
    "\n",
    "# dance is the least frequent in the main category\n",
    "# there are 3195 projects under this category"
   ]
  },
  {
   "cell_type": "code",
   "execution_count": 44,
   "metadata": {},
   "outputs": [
    {
     "data": {
      "text/plain": [
       "Product Design    14539\n",
       "Documentary       13371\n",
       "Shorts            10786\n",
       "Music             10744\n",
       "Food               9545\n",
       "                  ...  \n",
       "Weaving              59\n",
       "Residencies          52\n",
       "Letterpress          34\n",
       "Chiptune             31\n",
       "Taxidermy             9\n",
       "Name: category, Length: 158, dtype: int64"
      ]
     },
     "execution_count": 44,
     "metadata": {},
     "output_type": "execute_result"
    }
   ],
   "source": [
    "df['category'].value_counts()"
   ]
  },
  {
   "cell_type": "code",
   "execution_count": 45,
   "metadata": {},
   "outputs": [],
   "source": [
    "#product and design is the most frequent in the sub category\n",
    "# there are 14540 projects under this category\n",
    "\n",
    "#taxidermy is the least frequent in the sub category\n",
    "# there are 9 projects under this category"
   ]
  },
  {
   "cell_type": "code",
   "execution_count": 46,
   "metadata": {},
   "outputs": [
    {
     "data": {
      "text/plain": [
       "US    229826\n",
       "GB     23877\n",
       "CA      9912\n",
       "AU      5195\n",
       "DE      2131\n",
       "NL      1873\n",
       "FR      1559\n",
       "IT      1394\n",
       "ES      1090\n",
       "SE      1066\n",
       "NZ       993\n",
       "DK       672\n",
       "IE       473\n",
       "NO       430\n",
       "CH       389\n",
       "BE       329\n",
       "AT       283\n",
       "SG        70\n",
       "HK        47\n",
       "LU        33\n",
       "MX         4\n",
       "Name: country, dtype: int64"
      ]
     },
     "execution_count": 46,
     "metadata": {},
     "output_type": "execute_result"
    }
   ],
   "source": [
    "df['country'].value_counts()"
   ]
  },
  {
   "cell_type": "code",
   "execution_count": 47,
   "metadata": {},
   "outputs": [],
   "source": [
    "# US has statted the most kickstarter campaign"
   ]
  },
  {
   "cell_type": "code",
   "execution_count": 48,
   "metadata": {},
   "outputs": [
    {
     "data": {
      "text/plain": [
       "failed        168503\n",
       "successful    113143\n",
       "Name: state, dtype: int64"
      ]
     },
     "execution_count": 48,
     "metadata": {},
     "output_type": "execute_result"
    }
   ],
   "source": [
    "df['state'].value_counts()"
   ]
  },
  {
   "cell_type": "code",
   "execution_count": 49,
   "metadata": {},
   "outputs": [
    {
     "data": {
      "text/plain": [
       "<AxesSubplot:xlabel='main_category', ylabel='Count'>"
      ]
     },
     "execution_count": 49,
     "metadata": {},
     "output_type": "execute_result"
    },
    {
     "data": {
      "image/png": "[encoded data removed]",
      "text/plain": [
       "<Figure size 1080x360 with 1 Axes>"
      ]
     },
     "metadata": {
      "needs_background": "light"
     },
     "output_type": "display_data"
    }
   ],
   "source": [
    "#visualization\n",
    "plt.figure(figsize=(15,5))\n",
    "\n",
    "sns.histplot(df['main_category'], kde = True)"
   ]
  },
  {
   "cell_type": "code",
   "execution_count": 50,
   "metadata": {},
   "outputs": [
    {
     "name": "stderr",
     "output_type": "stream",
     "text": [
      "C:\\Users\\tegen\\anaconda3\\lib\\site-packages\\seaborn\\_decorators.py:36: FutureWarning: Pass the following variable as a keyword arg: x. From version 0.12, the only valid positional argument will be `data`, and passing other arguments without an explicit keyword will result in an error or misinterpretation.\n",
      "  warnings.warn(\n"
     ]
    },
    {
     "data": {
      "text/plain": [
       "<AxesSubplot:xlabel='main_category', ylabel='count'>"
      ]
     },
     "execution_count": 50,
     "metadata": {},
     "output_type": "execute_result"
    },
    {
     "data": {
      "image/png": "[encoded data removed]",
      "text/plain": [
       "<Figure size 1080x360 with 1 Axes>"
      ]
     },
     "metadata": {
      "needs_background": "light"
     },
     "output_type": "display_data"
    }
   ],
   "source": [
    "plt.figure(figsize=(15,5))\n",
    "\n",
    "\n",
    "sns.countplot(df['main_category'])"
   ]
  },
  {
   "cell_type": "code",
   "execution_count": 51,
   "metadata": {},
   "outputs": [
    {
     "name": "stderr",
     "output_type": "stream",
     "text": [
      "C:\\Users\\tegen\\anaconda3\\lib\\site-packages\\seaborn\\_decorators.py:36: FutureWarning: Pass the following variable as a keyword arg: x. From version 0.12, the only valid positional argument will be `data`, and passing other arguments without an explicit keyword will result in an error or misinterpretation.\n",
      "  warnings.warn(\n"
     ]
    },
    {
     "data": {
      "text/plain": [
       "<AxesSubplot:xlabel='state', ylabel='count'>"
      ]
     },
     "execution_count": 51,
     "metadata": {},
     "output_type": "execute_result"
    },
    {
     "data": {
      "image/png": "[encoded data removed]",
      "text/plain": [
       "<Figure size 432x288 with 1 Axes>"
      ]
     },
     "metadata": {
      "needs_background": "light"
     },
     "output_type": "display_data"
    }
   ],
   "source": [
    "sns.countplot(df['state'])"
   ]
  },
  {
   "cell_type": "code",
   "execution_count": 52,
   "metadata": {},
   "outputs": [
    {
     "name": "stderr",
     "output_type": "stream",
     "text": [
      "C:\\Users\\tegen\\anaconda3\\lib\\site-packages\\seaborn\\_decorators.py:36: FutureWarning: Pass the following variable as a keyword arg: x. From version 0.12, the only valid positional argument will be `data`, and passing other arguments without an explicit keyword will result in an error or misinterpretation.\n",
      "  warnings.warn(\n"
     ]
    },
    {
     "data": {
      "text/plain": [
       "<AxesSubplot:xlabel='country', ylabel='count'>"
      ]
     },
     "execution_count": 52,
     "metadata": {},
     "output_type": "execute_result"
    },
    {
     "data": {
      "image/png": "[encoded data removed]",
      "text/plain": [
       "<Figure size 1080x504 with 1 Axes>"
      ]
     },
     "metadata": {
      "needs_background": "light"
     },
     "output_type": "display_data"
    }
   ],
   "source": [
    "plt.figure(figsize=(15,7))\n",
    "\n",
    "sns.countplot(df['country'])"
   ]
  },
  {
   "cell_type": "code",
   "execution_count": 54,
   "metadata": {},
   "outputs": [
    {
     "data": {
      "text/html": [
       "<div>\n",
       "<style scoped>\n",
       "    .dataframe tbody tr th:only-of-type {\n",
       "        vertical-align: middle;\n",
       "    }\n",
       "\n",
       "    .dataframe tbody tr th {\n",
       "        vertical-align: top;\n",
       "    }\n",
       "\n",
       "    .dataframe thead th {\n",
       "        text-align: right;\n",
       "    }\n",
       "</style>\n",
       "<table border=\"1\" class=\"dataframe\">\n",
       "  <thead>\n",
       "    <tr style=\"text-align: right;\">\n",
       "      <th>main_category</th>\n",
       "      <th>Art</th>\n",
       "      <th>Comics</th>\n",
       "      <th>Crafts</th>\n",
       "      <th>Dance</th>\n",
       "      <th>Design</th>\n",
       "      <th>Fashion</th>\n",
       "      <th>Film &amp; Video</th>\n",
       "      <th>Food</th>\n",
       "      <th>Games</th>\n",
       "      <th>Journalism</th>\n",
       "      <th>Music</th>\n",
       "      <th>Photography</th>\n",
       "      <th>Publishing</th>\n",
       "      <th>Technology</th>\n",
       "      <th>Theater</th>\n",
       "    </tr>\n",
       "    <tr>\n",
       "      <th>state</th>\n",
       "      <th></th>\n",
       "      <th></th>\n",
       "      <th></th>\n",
       "      <th></th>\n",
       "      <th></th>\n",
       "      <th></th>\n",
       "      <th></th>\n",
       "      <th></th>\n",
       "      <th></th>\n",
       "      <th></th>\n",
       "      <th></th>\n",
       "      <th></th>\n",
       "      <th></th>\n",
       "      <th></th>\n",
       "      <th></th>\n",
       "    </tr>\n",
       "  </thead>\n",
       "  <tbody>\n",
       "    <tr>\n",
       "      <th>failed</th>\n",
       "      <td>0.071975</td>\n",
       "      <td>0.020243</td>\n",
       "      <td>0.027519</td>\n",
       "      <td>0.006475</td>\n",
       "      <td>0.071589</td>\n",
       "      <td>0.068367</td>\n",
       "      <td>0.176234</td>\n",
       "      <td>0.080901</td>\n",
       "      <td>0.077346</td>\n",
       "      <td>0.015828</td>\n",
       "      <td>0.113778</td>\n",
       "      <td>0.034183</td>\n",
       "      <td>0.118532</td>\n",
       "      <td>0.097191</td>\n",
       "      <td>0.019839</td>\n",
       "    </tr>\n",
       "    <tr>\n",
       "      <th>successful</th>\n",
       "      <td>0.085529</td>\n",
       "      <td>0.039835</td>\n",
       "      <td>0.014787</td>\n",
       "      <td>0.018596</td>\n",
       "      <td>0.070433</td>\n",
       "      <td>0.038173</td>\n",
       "      <td>0.189247</td>\n",
       "      <td>0.046552</td>\n",
       "      <td>0.083045</td>\n",
       "      <td>0.007689</td>\n",
       "      <td>0.191757</td>\n",
       "      <td>0.025702</td>\n",
       "      <td>0.090867</td>\n",
       "      <td>0.044784</td>\n",
       "      <td>0.053004</td>\n",
       "    </tr>\n",
       "  </tbody>\n",
       "</table>\n",
       "</div>"
      ],
      "text/plain": [
       "main_category       Art    Comics    Crafts     Dance    Design   Fashion  \\\n",
       "state                                                                       \n",
       "failed         0.071975  0.020243  0.027519  0.006475  0.071589  0.068367   \n",
       "successful     0.085529  0.039835  0.014787  0.018596  0.070433  0.038173   \n",
       "\n",
       "main_category  Film & Video      Food     Games  Journalism     Music  \\\n",
       "state                                                                   \n",
       "failed             0.176234  0.080901  0.077346    0.015828  0.113778   \n",
       "successful         0.189247  0.046552  0.083045    0.007689  0.191757   \n",
       "\n",
       "main_category  Photography  Publishing  Technology   Theater  \n",
       "state                                                         \n",
       "failed            0.034183    0.118532    0.097191  0.019839  \n",
       "successful        0.025702    0.090867    0.044784  0.053004  "
      ]
     },
     "execution_count": 54,
     "metadata": {},
     "output_type": "execute_result"
    }
   ],
   "source": [
    "pd.crosstab(df['state'], df['main_category'], normalize = 'index') "
   ]
  },
  {
   "cell_type": "code",
   "execution_count": 79,
   "metadata": {
    "collapsed": true
   },
   "outputs": [
    {
     "ename": "SyntaxError",
     "evalue": "EOL while scanning string literal (Temp/ipykernel_117012/4259555694.py, line 3)",
     "output_type": "error",
     "traceback": [
      "\u001b[1;36m  File \u001b[1;32m\"C:\\Users\\tegen\\AppData\\Local\\Temp/ipykernel_117012/4259555694.py\"\u001b[1;36m, line \u001b[1;32m3\u001b[0m\n\u001b[1;33m    It's time to explore the relationships between variables and answer some of the critical questions for the project. Your dependent/outcome variable is <b>STATE</b> - this is the variable that captures if the project was successful or not. In addition to exploring the relationships between your other independent variables, you want to pay close attention to the relationship between your independent variables and state. Follow the steps below to explore the relationships between your variables. In addition, you are tasked with creating visualizations related to your results. Stylistic choices related to the visualizations is up to your group. Use the space below (double-click the cell to activate) to write a brief paragraph describing the steps you took to determine variable relationships.\u001b[0m\n\u001b[1;37m                                                                                                                                                                                                                                                                                                                                                                                                                                                                                                                                                                                                                                                                                                                                                                                                                                   ^\u001b[0m\n\u001b[1;31mSyntaxError\u001b[0m\u001b[1;31m:\u001b[0m EOL while scanning string literal\n"
     ]
    }
   ],
   "source": [
    "## <font color=#6AA121>Part 4: Variable Relationships</font>\n",
    "\n",
    "It's time to explore the relationships between variables and answer some of the critical questions for the project. Your dependent/outcome variable is <b>STATE</b> - this is the variable that captures if the project was successful or not. In addition to exploring the relationships between your other independent variables, you want to pay close attention to the relationship between your independent variables and state. Follow the steps below to explore the relationships between your variables. In addition, you are tasked with creating visualizations related to your results. Stylistic choices related to the visualizations is up to your group. Use the space below (double-click the cell to activate) to write a brief paragraph describing the steps you took to determine variable relationships. \n",
    "\n",
    "### <font color=#6AA121>Questions to Answer</font>\n",
    "1.\tHow correlated are the numeric variables within this dataset? Create a correlation matrix to find out. Is anything highly correlated?\n",
    "2.\tWhat is the average amount of money pledged across each of the main categories? What about across the following: sub-category, country, currency, and state? Which main category is the most profitable? \n",
    "3.\tWhat is the average number of backers across each of the main categories? What about across the following: sub-category, country, currency, and state? Which main category is the most popular?\n",
    "4.\tWhat percentage of projects succeed and fail across each of the main categories?\n",
    "5.\tWhich of the main categories have the highest success rate (top 3)? Which of the sub-categories have the highest success rate (top 3)?\n",
    "6.\tWhat is the average duration of a campaign for projects that succeed? What is the average duration for projects that fail?\n",
    "7.  What is the average funding goal of a campaign for projects that succeed? What is the average funding goal for projects that fail?\n",
    "\n",
    "\n",
    "### <font color=#6AA121>Visualizations to Create</font> \n",
    "* Average Pledge by Main Category\n",
    "* Average Num Backers by Main Category\n",
    "* Average Pledge by State\n",
    "* Average Num Backers by State\n",
    "* Average Funding Goal by Main Category\n",
    "* Average Funding Goal by State\n",
    "* Average Percentage of Funding Collected by Main Category\n",
    "\n",
    "***\n",
    "\n",
    "### <font color=#6AA121>RELATIONSHIPS BETWEEN VARIABLES</font>\n",
    "\n",
    "#### Start your paragraph here . . . Be sure to answer all questions in this space!"
   ]
  },
  {
   "cell_type": "code",
   "execution_count": 48,
   "metadata": {},
   "outputs": [
    {
     "data": {
      "text/html": [
       "<div>\n",
       "<style scoped>\n",
       "    .dataframe tbody tr th:only-of-type {\n",
       "        vertical-align: middle;\n",
       "    }\n",
       "\n",
       "    .dataframe tbody tr th {\n",
       "        vertical-align: top;\n",
       "    }\n",
       "\n",
       "    .dataframe thead th {\n",
       "        text-align: right;\n",
       "    }\n",
       "</style>\n",
       "<table border=\"1\" class=\"dataframe\">\n",
       "  <thead>\n",
       "    <tr style=\"text-align: right;\">\n",
       "      <th></th>\n",
       "      <th>length_days</th>\n",
       "      <th>goal</th>\n",
       "      <th>usd pledged</th>\n",
       "      <th>backers</th>\n",
       "      <th>pct_funded</th>\n",
       "    </tr>\n",
       "  </thead>\n",
       "  <tbody>\n",
       "    <tr>\n",
       "      <th>length_days</th>\n",
       "      <td>1.000000</td>\n",
       "      <td>0.022077</td>\n",
       "      <td>0.006316</td>\n",
       "      <td>-0.001391</td>\n",
       "      <td>-0.002499</td>\n",
       "    </tr>\n",
       "    <tr>\n",
       "      <th>goal</th>\n",
       "      <td>0.022077</td>\n",
       "      <td>1.000000</td>\n",
       "      <td>0.007617</td>\n",
       "      <td>0.006090</td>\n",
       "      <td>-0.000561</td>\n",
       "    </tr>\n",
       "    <tr>\n",
       "      <th>usd pledged</th>\n",
       "      <td>0.006316</td>\n",
       "      <td>0.007617</td>\n",
       "      <td>1.000000</td>\n",
       "      <td>0.716784</td>\n",
       "      <td>0.010074</td>\n",
       "    </tr>\n",
       "    <tr>\n",
       "      <th>backers</th>\n",
       "      <td>-0.001391</td>\n",
       "      <td>0.006090</td>\n",
       "      <td>0.716784</td>\n",
       "      <td>1.000000</td>\n",
       "      <td>0.017322</td>\n",
       "    </tr>\n",
       "    <tr>\n",
       "      <th>pct_funded</th>\n",
       "      <td>-0.002499</td>\n",
       "      <td>-0.000561</td>\n",
       "      <td>0.010074</td>\n",
       "      <td>0.017322</td>\n",
       "      <td>1.000000</td>\n",
       "    </tr>\n",
       "  </tbody>\n",
       "</table>\n",
       "</div>"
      ],
      "text/plain": [
       "             length_days      goal  usd pledged   backers  pct_funded\n",
       "length_days     1.000000  0.022077     0.006316 -0.001391   -0.002499\n",
       "goal            0.022077  1.000000     0.007617  0.006090   -0.000561\n",
       "usd pledged     0.006316  0.007617     1.000000  0.716784    0.010074\n",
       "backers        -0.001391  0.006090     0.716784  1.000000    0.017322\n",
       "pct_funded     -0.002499 -0.000561     0.010074  0.017322    1.000000"
      ]
     },
     "execution_count": 48,
     "metadata": {},
     "output_type": "execute_result"
    }
   ],
   "source": [
    "df.corr()"
   ]
  },
  {
   "cell_type": "code",
   "execution_count": 49,
   "metadata": {},
   "outputs": [],
   "source": [
    "## create a correlation matrix for the continuous variables\n",
    "\n",
    "# usd pledged and backers have good relationship\n"
   ]
  },
  {
   "cell_type": "code",
   "execution_count": 50,
   "metadata": {},
   "outputs": [
    {
     "data": {
      "text/plain": [
       "main_category\n",
       "Art              3069.410309\n",
       "Comics           6832.580096\n",
       "Crafts           1514.296337\n",
       "Dance            3424.076079\n",
       "Design          23132.730636\n",
       "Fashion          5665.158035\n",
       "Film & Video     6518.644822\n",
       "Food             5221.043908\n",
       "Games           22622.060660\n",
       "Journalism       2793.559315\n",
       "Music            3930.182092\n",
       "Photography      3265.703688\n",
       "Publishing       3206.302548\n",
       "Technology      20898.350418\n",
       "Theater          4018.430797\n",
       "Name: usd pledged, dtype: float64"
      ]
     },
     "execution_count": 50,
     "metadata": {},
     "output_type": "execute_result"
    }
   ],
   "source": [
    "## average pledge across categoricial variables (groupby)\n",
    "df['usd pledged'].groupby(df['main_category']).mean()"
   ]
  },
  {
   "cell_type": "code",
   "execution_count": 51,
   "metadata": {},
   "outputs": [],
   "source": [
    "# design is the most profitable"
   ]
  },
  {
   "cell_type": "code",
   "execution_count": 52,
   "metadata": {},
   "outputs": [
    {
     "data": {
      "text/plain": [
       "category\n",
       "3D Printing    70321.848632\n",
       "Academic        2003.564080\n",
       "Accessories     7047.600829\n",
       "Action          4128.312842\n",
       "Animals         2382.214298\n",
       "                   ...     \n",
       "Woodworking     1549.588085\n",
       "Workshops       1357.862474\n",
       "World Music     3702.566343\n",
       "Young Adult     1383.475593\n",
       "Zines           2125.691922\n",
       "Name: usd pledged, Length: 158, dtype: float64"
      ]
     },
     "execution_count": 52,
     "metadata": {},
     "output_type": "execute_result"
    }
   ],
   "source": [
    "df['usd pledged'].groupby(df['category']).mean()"
   ]
  },
  {
   "cell_type": "code",
   "execution_count": 53,
   "metadata": {},
   "outputs": [],
   "source": [
    "#3D printing in the most profitable"
   ]
  },
  {
   "cell_type": "code",
   "execution_count": 54,
   "metadata": {},
   "outputs": [],
   "source": [
    "## average number of backers across categorical variables (groupby)\n"
   ]
  },
  {
   "cell_type": "code",
   "execution_count": 55,
   "metadata": {},
   "outputs": [
    {
     "data": {
      "text/plain": [
       "main_category\n",
       "Art              42.541206\n",
       "Comics          145.676812\n",
       "Crafts           29.562441\n",
       "Dance            45.290454\n",
       "Design          268.927566\n",
       "Fashion          69.507418\n",
       "Film & Video     73.161697\n",
       "Food             59.249431\n",
       "Games           386.230282\n",
       "Journalism       43.399774\n",
       "Music            57.797494\n",
       "Photography      40.766036\n",
       "Publishing       57.901567\n",
       "Technology      187.457750\n",
       "Theater          49.613383\n",
       "Name: backers, dtype: float64"
      ]
     },
     "execution_count": 55,
     "metadata": {},
     "output_type": "execute_result"
    }
   ],
   "source": [
    "df['backers'].groupby(df['main_category']).mean()"
   ]
  },
  {
   "cell_type": "code",
   "execution_count": 56,
   "metadata": {},
   "outputs": [],
   "source": [
    "#games is the most profitable"
   ]
  },
  {
   "cell_type": "code",
   "execution_count": 57,
   "metadata": {},
   "outputs": [
    {
     "data": {
      "text/plain": [
       "category\n",
       "3D Printing    273.092308\n",
       "Academic        30.544068\n",
       "Accessories     99.114499\n",
       "Action          59.240404\n",
       "Animals         34.532663\n",
       "                  ...    \n",
       "Woodworking     22.099762\n",
       "Workshops       21.630252\n",
       "World Music     58.424650\n",
       "Young Adult     23.413732\n",
       "Zines           53.453488\n",
       "Name: backers, Length: 158, dtype: float64"
      ]
     },
     "execution_count": 57,
     "metadata": {},
     "output_type": "execute_result"
    }
   ],
   "source": [
    "df['backers'].groupby(df['category']).mean()"
   ]
  },
  {
   "cell_type": "code",
   "execution_count": 58,
   "metadata": {},
   "outputs": [],
   "source": [
    "#3D printing is the most profitable"
   ]
  },
  {
   "cell_type": "code",
   "execution_count": 59,
   "metadata": {},
   "outputs": [
    {
     "data": {
      "text/plain": [
       "country\n",
       "AT     69.727915\n",
       "AU     82.111453\n",
       "BE     50.629179\n",
       "CA     97.199758\n",
       "CH     76.814910\n",
       "DE    100.707180\n",
       "DK     70.949405\n",
       "ES     71.709174\n",
       "FR    126.205901\n",
       "GB     88.638481\n",
       "HK     68.595745\n",
       "IE     56.473573\n",
       "IT     48.080344\n",
       "LU     36.969697\n",
       "MX      9.250000\n",
       "NL     61.481580\n",
       "NO     39.090698\n",
       "NZ     67.182276\n",
       "SE     80.296435\n",
       "SG    180.557143\n",
       "US    117.571350\n",
       "Name: backers, dtype: float64"
      ]
     },
     "execution_count": 59,
     "metadata": {},
     "output_type": "execute_result"
    }
   ],
   "source": [
    "df['backers'].groupby(df['country']).mean()"
   ]
  },
  {
   "cell_type": "code",
   "execution_count": 60,
   "metadata": {},
   "outputs": [
    {
     "data": {
      "text/plain": [
       "currency\n",
       "AUD     82.111453\n",
       "CAD     97.199758\n",
       "CHF     76.814910\n",
       "DKK     70.949405\n",
       "EUR     80.308347\n",
       "GBP     88.638481\n",
       "HKD     68.595745\n",
       "MXN      9.250000\n",
       "NOK     39.090698\n",
       "NZD     67.182276\n",
       "SEK     80.296435\n",
       "SGD    180.557143\n",
       "USD    117.571350\n",
       "Name: backers, dtype: float64"
      ]
     },
     "execution_count": 60,
     "metadata": {},
     "output_type": "execute_result"
    }
   ],
   "source": [
    "df['backers'].groupby(df['currency']).mean()"
   ]
  },
  {
   "cell_type": "code",
   "execution_count": 61,
   "metadata": {},
   "outputs": [
    {
     "data": {
      "text/plain": [
       "state\n",
       "failed         16.768301\n",
       "successful    253.665538\n",
       "Name: backers, dtype: float64"
      ]
     },
     "execution_count": 61,
     "metadata": {},
     "output_type": "execute_result"
    }
   ],
   "source": [
    "df['backers'].groupby(df['state']).mean()"
   ]
  },
  {
   "cell_type": "code",
   "execution_count": 62,
   "metadata": {},
   "outputs": [],
   "source": [
    "## averages of all numeric variables grouped by state (groupby)\n"
   ]
  },
  {
   "cell_type": "code",
   "execution_count": 63,
   "metadata": {},
   "outputs": [
    {
     "data": {
      "text/plain": [
       "state\n",
       "failed        63432.182763\n",
       "successful     9623.108753\n",
       "Name: goal, dtype: float64"
      ]
     },
     "execution_count": 63,
     "metadata": {},
     "output_type": "execute_result"
    }
   ],
   "source": [
    "df['goal'].groupby(df['state']).mean()"
   ]
  },
  {
   "cell_type": "code",
   "execution_count": 64,
   "metadata": {},
   "outputs": [
    {
     "data": {
      "text/plain": [
       "state\n",
       "failed         1279.467288\n",
       "successful    19442.292414\n",
       "Name: usd pledged, dtype: float64"
      ]
     },
     "execution_count": 64,
     "metadata": {},
     "output_type": "execute_result"
    }
   ],
   "source": [
    "df['usd pledged'].groupby(df['state']).mean()"
   ]
  },
  {
   "cell_type": "code",
   "execution_count": 65,
   "metadata": {},
   "outputs": [
    {
     "data": {
      "text/plain": [
       "state\n",
       "failed         16.768301\n",
       "successful    253.665538\n",
       "Name: backers, dtype: float64"
      ]
     },
     "execution_count": 65,
     "metadata": {},
     "output_type": "execute_result"
    }
   ],
   "source": [
    "df['backers'].groupby(df['state']).mean()"
   ]
  },
  {
   "cell_type": "code",
   "execution_count": 66,
   "metadata": {},
   "outputs": [
    {
     "data": {
      "text/plain": [
       "state\n",
       "failed        35.181658\n",
       "successful    32.181717\n",
       "Name: length_days, dtype: float64"
      ]
     },
     "execution_count": 66,
     "metadata": {},
     "output_type": "execute_result"
    }
   ],
   "source": [
    "df['length_days'].groupby(df['state']).mean()"
   ]
  },
  {
   "cell_type": "code",
   "execution_count": 67,
   "metadata": {},
   "outputs": [],
   "source": [
    "# average number of backers and pledges by main category \n",
    "# include the variable \"pct_funded\" to get a better picture of the projects that met/exceeded their goal\n"
   ]
  },
  {
   "cell_type": "code",
   "execution_count": 68,
   "metadata": {},
   "outputs": [
    {
     "data": {
      "text/plain": [
       "main_category\n",
       "Art              42.541206\n",
       "Comics          145.676812\n",
       "Crafts           29.562441\n",
       "Dance            45.290454\n",
       "Design          268.927566\n",
       "Fashion          69.507418\n",
       "Film & Video     73.161697\n",
       "Food             59.249431\n",
       "Games           386.230282\n",
       "Journalism       43.399774\n",
       "Music            57.797494\n",
       "Photography      40.766036\n",
       "Publishing       57.901567\n",
       "Technology      187.457750\n",
       "Theater          49.613383\n",
       "Name: backers, dtype: float64"
      ]
     },
     "execution_count": 68,
     "metadata": {},
     "output_type": "execute_result"
    }
   ],
   "source": [
    "df['backers'].groupby(df['main_category']).mean()"
   ]
  },
  {
   "cell_type": "code",
   "execution_count": 69,
   "metadata": {},
   "outputs": [
    {
     "data": {
      "text/plain": [
       "main_category\n",
       "Art              3069.410309\n",
       "Comics           6832.580096\n",
       "Crafts           1514.296337\n",
       "Dance            3424.076079\n",
       "Design          23132.730636\n",
       "Fashion          5665.158035\n",
       "Film & Video     6518.644822\n",
       "Food             5221.043908\n",
       "Games           22622.060660\n",
       "Journalism       2793.559315\n",
       "Music            3930.182092\n",
       "Photography      3265.703688\n",
       "Publishing       3206.302548\n",
       "Technology      20898.350418\n",
       "Theater          4018.430797\n",
       "Name: usd pledged, dtype: float64"
      ]
     },
     "execution_count": 69,
     "metadata": {},
     "output_type": "execute_result"
    }
   ],
   "source": [
    "df['usd pledged'].groupby(df['main_category']).mean()"
   ]
  },
  {
   "cell_type": "code",
   "execution_count": 70,
   "metadata": {},
   "outputs": [],
   "source": [
    "# average number of backers and pledges by  subcategory \n"
   ]
  },
  {
   "cell_type": "code",
   "execution_count": 71,
   "metadata": {},
   "outputs": [
    {
     "data": {
      "text/plain": [
       "category\n",
       "3D Printing    273.092308\n",
       "Academic        30.544068\n",
       "Accessories     99.114499\n",
       "Action          59.240404\n",
       "Animals         34.532663\n",
       "                  ...    \n",
       "Woodworking     22.099762\n",
       "Workshops       21.630252\n",
       "World Music     58.424650\n",
       "Young Adult     23.413732\n",
       "Zines           53.453488\n",
       "Name: backers, Length: 158, dtype: float64"
      ]
     },
     "execution_count": 71,
     "metadata": {},
     "output_type": "execute_result"
    }
   ],
   "source": [
    "df['backers'].groupby(df['category']).mean()"
   ]
  },
  {
   "cell_type": "code",
   "execution_count": 73,
   "metadata": {},
   "outputs": [
    {
     "data": {
      "text/plain": [
       "category\n",
       "3D Printing    70321.848632\n",
       "Academic        2003.564080\n",
       "Accessories     7047.600829\n",
       "Action          4128.312842\n",
       "Animals         2382.214298\n",
       "                   ...     \n",
       "Woodworking     1549.588085\n",
       "Workshops       1357.862474\n",
       "World Music     3702.566343\n",
       "Young Adult     1383.475593\n",
       "Zines           2125.691922\n",
       "Name: usd pledged, Length: 158, dtype: float64"
      ]
     },
     "execution_count": 73,
     "metadata": {},
     "output_type": "execute_result"
    }
   ],
   "source": [
    "df['usd pledged'].groupby(df['category']).mean()"
   ]
  },
  {
   "cell_type": "code",
   "execution_count": 74,
   "metadata": {},
   "outputs": [
    {
     "data": {
      "image/png": "[encoded data removed]",
      "text/plain": [
       "<Figure size 1080x504 with 1 Axes>"
      ]
     },
     "metadata": {
      "needs_background": "light"
     },
     "output_type": "display_data"
    }
   ],
   "source": [
    "plt.figure(figsize=(15,7))\n",
    "\n",
    "sns.barplot(data = df, x = \"main_category\", y = \"backers\", ci = None)\n",
    "\n",
    "plt.title('main  category Statistic by backers')\n",
    "plt.grid()"
   ]
  },
  {
   "cell_type": "code",
   "execution_count": 75,
   "metadata": {},
   "outputs": [
    {
     "data": {
      "image/png": "[encoded data removed]",
      "text/plain": [
       "<Figure size 1080x504 with 1 Axes>"
      ]
     },
     "metadata": {
      "needs_background": "light"
     },
     "output_type": "display_data"
    }
   ],
   "source": [
    "plt.figure(figsize=(15,7))\n",
    "\n",
    "sns.barplot(data = df, x = \"state\", y = \"usd pledged\", ci = None)\n",
    "\n",
    "plt.title('usd pledged Statistic by state')\n",
    "plt.grid()"
   ]
  },
  {
   "cell_type": "code",
   "execution_count": 76,
   "metadata": {},
   "outputs": [
    {
     "data": {
      "image/png": "[encoded data removed]",
      "text/plain": [
       "<Figure size 1080x504 with 1 Axes>"
      ]
     },
     "metadata": {
      "needs_background": "light"
     },
     "output_type": "display_data"
    }
   ],
   "source": [
    "plt.figure(figsize=(15,7))\n",
    "\n",
    "sns.barplot(data = df, x = \"main_category\", y = \"goal\", ci = None)\n",
    "\n",
    "plt.title('main  category Statistic by goal')\n",
    "plt.grid()"
   ]
  },
  {
   "cell_type": "code",
   "execution_count": 77,
   "metadata": {},
   "outputs": [
    {
     "data": {
      "image/png": "[encoded data removed]",
      "text/plain": [
       "<Figure size 1080x504 with 1 Axes>"
      ]
     },
     "metadata": {
      "needs_background": "light"
     },
     "output_type": "display_data"
    }
   ],
   "source": [
    "plt.figure(figsize=(15,7))\n",
    "\n",
    "sns.barplot(data = df, x = \"state\", y = \"goal\", ci = None)\n",
    "\n",
    "plt.title('goal Statistic by state')\n",
    "plt.grid()"
   ]
  },
  {
   "cell_type": "code",
   "execution_count": 55,
   "metadata": {},
   "outputs": [
    {
     "data": {
      "text/html": [
       "<div>\n",
       "<style scoped>\n",
       "    .dataframe tbody tr th:only-of-type {\n",
       "        vertical-align: middle;\n",
       "    }\n",
       "\n",
       "    .dataframe tbody tr th {\n",
       "        vertical-align: top;\n",
       "    }\n",
       "\n",
       "    .dataframe thead th {\n",
       "        text-align: right;\n",
       "    }\n",
       "</style>\n",
       "<table border=\"1\" class=\"dataframe\">\n",
       "  <thead>\n",
       "    <tr style=\"text-align: right;\">\n",
       "      <th>state</th>\n",
       "      <th>failed</th>\n",
       "      <th>successful</th>\n",
       "    </tr>\n",
       "    <tr>\n",
       "      <th>main_category</th>\n",
       "      <th></th>\n",
       "      <th></th>\n",
       "    </tr>\n",
       "  </thead>\n",
       "  <tbody>\n",
       "    <tr>\n",
       "      <th>Art</th>\n",
       "      <td>0.556203</td>\n",
       "      <td>0.443797</td>\n",
       "    </tr>\n",
       "    <tr>\n",
       "      <th>Comics</th>\n",
       "      <td>0.430791</td>\n",
       "      <td>0.569209</td>\n",
       "    </tr>\n",
       "    <tr>\n",
       "      <th>Crafts</th>\n",
       "      <td>0.734865</td>\n",
       "      <td>0.265135</td>\n",
       "    </tr>\n",
       "    <tr>\n",
       "      <th>Dance</th>\n",
       "      <td>0.341471</td>\n",
       "      <td>0.658529</td>\n",
       "    </tr>\n",
       "    <tr>\n",
       "      <th>Design</th>\n",
       "      <td>0.602187</td>\n",
       "      <td>0.397813</td>\n",
       "    </tr>\n",
       "    <tr>\n",
       "      <th>Fashion</th>\n",
       "      <td>0.727319</td>\n",
       "      <td>0.272681</td>\n",
       "    </tr>\n",
       "    <tr>\n",
       "      <th>Film &amp; Video</th>\n",
       "      <td>0.581044</td>\n",
       "      <td>0.418956</td>\n",
       "    </tr>\n",
       "    <tr>\n",
       "      <th>Food</th>\n",
       "      <td>0.721308</td>\n",
       "      <td>0.278692</td>\n",
       "    </tr>\n",
       "    <tr>\n",
       "      <th>Games</th>\n",
       "      <td>0.581078</td>\n",
       "      <td>0.418922</td>\n",
       "    </tr>\n",
       "    <tr>\n",
       "      <th>Journalism</th>\n",
       "      <td>0.754029</td>\n",
       "      <td>0.245971</td>\n",
       "    </tr>\n",
       "    <tr>\n",
       "      <th>Music</th>\n",
       "      <td>0.469120</td>\n",
       "      <td>0.530880</td>\n",
       "    </tr>\n",
       "    <tr>\n",
       "      <th>Photography</th>\n",
       "      <td>0.664513</td>\n",
       "      <td>0.335487</td>\n",
       "    </tr>\n",
       "    <tr>\n",
       "      <th>Publishing</th>\n",
       "      <td>0.660177</td>\n",
       "      <td>0.339823</td>\n",
       "    </tr>\n",
       "    <tr>\n",
       "      <th>Technology</th>\n",
       "      <td>0.763710</td>\n",
       "      <td>0.236290</td>\n",
       "    </tr>\n",
       "    <tr>\n",
       "      <th>Theater</th>\n",
       "      <td>0.357923</td>\n",
       "      <td>0.642077</td>\n",
       "    </tr>\n",
       "  </tbody>\n",
       "</table>\n",
       "</div>"
      ],
      "text/plain": [
       "state            failed  successful\n",
       "main_category                      \n",
       "Art            0.556203    0.443797\n",
       "Comics         0.430791    0.569209\n",
       "Crafts         0.734865    0.265135\n",
       "Dance          0.341471    0.658529\n",
       "Design         0.602187    0.397813\n",
       "Fashion        0.727319    0.272681\n",
       "Film & Video   0.581044    0.418956\n",
       "Food           0.721308    0.278692\n",
       "Games          0.581078    0.418922\n",
       "Journalism     0.754029    0.245971\n",
       "Music          0.469120    0.530880\n",
       "Photography    0.664513    0.335487\n",
       "Publishing     0.660177    0.339823\n",
       "Technology     0.763710    0.236290\n",
       "Theater        0.357923    0.642077"
      ]
     },
     "execution_count": 55,
     "metadata": {},
     "output_type": "execute_result"
    }
   ],
   "source": [
    "## state by campaign main category (crosstab)\n",
    "# hint: list 'state' second for an easier to read table\n",
    "\n",
    "pd.crosstab(df['main_category'], df['state'],normalize = 'index')\n",
    "# HINT: it's easier to understand the differences between groups by looking at percentages"
   ]
  },
  {
   "cell_type": "code",
   "execution_count": 56,
   "metadata": {},
   "outputs": [
    {
     "data": {
      "text/html": [
       "<div>\n",
       "<style scoped>\n",
       "    .dataframe tbody tr th:only-of-type {\n",
       "        vertical-align: middle;\n",
       "    }\n",
       "\n",
       "    .dataframe tbody tr th {\n",
       "        vertical-align: top;\n",
       "    }\n",
       "\n",
       "    .dataframe thead th {\n",
       "        text-align: right;\n",
       "    }\n",
       "</style>\n",
       "<table border=\"1\" class=\"dataframe\">\n",
       "  <thead>\n",
       "    <tr style=\"text-align: right;\">\n",
       "      <th>state</th>\n",
       "      <th>failed</th>\n",
       "      <th>successful</th>\n",
       "    </tr>\n",
       "    <tr>\n",
       "      <th>category</th>\n",
       "      <th></th>\n",
       "      <th></th>\n",
       "    </tr>\n",
       "  </thead>\n",
       "  <tbody>\n",
       "    <tr>\n",
       "      <th>3D Printing</th>\n",
       "      <td>0.575824</td>\n",
       "      <td>0.424176</td>\n",
       "    </tr>\n",
       "    <tr>\n",
       "      <th>Academic</th>\n",
       "      <td>0.749153</td>\n",
       "      <td>0.250847</td>\n",
       "    </tr>\n",
       "    <tr>\n",
       "      <th>Accessories</th>\n",
       "      <td>0.656502</td>\n",
       "      <td>0.343498</td>\n",
       "    </tr>\n",
       "    <tr>\n",
       "      <th>Action</th>\n",
       "      <td>0.844444</td>\n",
       "      <td>0.155556</td>\n",
       "    </tr>\n",
       "    <tr>\n",
       "      <th>Animals</th>\n",
       "      <td>0.723618</td>\n",
       "      <td>0.276382</td>\n",
       "    </tr>\n",
       "    <tr>\n",
       "      <th>...</th>\n",
       "      <td>...</td>\n",
       "      <td>...</td>\n",
       "    </tr>\n",
       "    <tr>\n",
       "      <th>Woodworking</th>\n",
       "      <td>0.728029</td>\n",
       "      <td>0.271971</td>\n",
       "    </tr>\n",
       "    <tr>\n",
       "      <th>Workshops</th>\n",
       "      <td>0.663866</td>\n",
       "      <td>0.336134</td>\n",
       "    </tr>\n",
       "    <tr>\n",
       "      <th>World Music</th>\n",
       "      <td>0.508178</td>\n",
       "      <td>0.491822</td>\n",
       "    </tr>\n",
       "    <tr>\n",
       "      <th>Young Adult</th>\n",
       "      <td>0.757042</td>\n",
       "      <td>0.242958</td>\n",
       "    </tr>\n",
       "    <tr>\n",
       "      <th>Zines</th>\n",
       "      <td>0.538760</td>\n",
       "      <td>0.461240</td>\n",
       "    </tr>\n",
       "  </tbody>\n",
       "</table>\n",
       "<p>158 rows × 2 columns</p>\n",
       "</div>"
      ],
      "text/plain": [
       "state          failed  successful\n",
       "category                         \n",
       "3D Printing  0.575824    0.424176\n",
       "Academic     0.749153    0.250847\n",
       "Accessories  0.656502    0.343498\n",
       "Action       0.844444    0.155556\n",
       "Animals      0.723618    0.276382\n",
       "...               ...         ...\n",
       "Woodworking  0.728029    0.271971\n",
       "Workshops    0.663866    0.336134\n",
       "World Music  0.508178    0.491822\n",
       "Young Adult  0.757042    0.242958\n",
       "Zines        0.538760    0.461240\n",
       "\n",
       "[158 rows x 2 columns]"
      ]
     },
     "execution_count": 56,
     "metadata": {},
     "output_type": "execute_result"
    }
   ],
   "source": [
    "## state by campaign sub-category (crosstab)\n",
    "# hint: list 'state' second for an easier to read table\n",
    "\n",
    "pd.crosstab(df['category'], df['state'], normalize = 'index')\n",
    "\n",
    "\n",
    "# HINT: it's easier to understand the differences between groups by looking at percentages"
   ]
  },
  {
   "cell_type": "markdown",
   "metadata": {},
   "source": [
    "## <font color=#306EFF>Part 5: Group Presentation</font>\n",
    "\n",
    "By now, your group should feel very comfortable with the aspects of the Kickstarter dataset. You should have a firm understanding of what Kickstarter is, what the dataset contains, the characteristics of each variable, how the variables interact with each other, and finally, which variables influence the outcome of the Kickstarter campaign. Can you put all this information together to tell a story about the data? Your presentation should include visualizations and clear answers to the two primary questions:\n",
    "\n",
    "    1. What kinds of projects should the Kickstarter Marking Team focus their attention on?\n",
    "    2. Why should the Marketing Team focus their attention in that direction?\n",
    "\n",
    "In addition to these two questions, your presentation should cover the additional questions listed below. These questions should be easy to answer using the information you discovered above. When you are done, submit your completed notebook to me.   \n",
    "\n",
    "### <font color=#306EFF>Questions to Answer</font>\n",
    "1.\tWhat main category is the most profitable (highest amount of money pledged)? \n",
    "2.\tWhich main category is the most popular (highest number of backers)?\n",
    "3.\tWhich sub-categories are the most profitable and popular (top 3)?\n",
    "4.\tWhat are some of the characteristics of a successful Kickstarter campaign? \n",
    "5.\tHow does the success or failure of Kickstarter campaigns differ between main category, sub-category, country, and length of campaign? Please mention only the most notable – you do not need to detail the success/failure rate for each category/sub-category? \n",
    "\n",
    "***\n",
    "\n",
    "### <font color=#306EFF>TIPS FOR A GREAT PRESENTATION</font>\n",
    "\n",
    "* Start with the most important information (answers to the two questions above), and work backwards. The entire class will be working with the same dataset, therefore, we don't need to know the details of all your coding -- we just want to know what findings are most important to the questions. \n",
    "* Create clear visualizations. Make sure your audience can quickly and easily understand what your visualizations are showing. While you have a lot of options for how to style your visualizations, don't go overboard! \n",
    "* Make sure everyone understands what the visualization is showing; it should not have to stand on its own. When you present a visualization, you should be able to discuss what it means and what the significance is. \n",
    "* Use a single presentation format -- you can create a PowerPoint presentation or organize your notebook in a way that is easy to follow; reguardless of what your group puts together, you should use only ONE format. "
   ]
  },
  {
   "cell_type": "code",
   "execution_count": null,
   "metadata": {},
   "outputs": [],
   "source": [
    "1. What kinds of projects should the Kickstarter Marking Team focus their attention on?\n",
    "2. Why should the Marketing Team focus their attention in that direction?\n",
    "\n",
    "# from the main category kickstarter should focus on by usd pledged: \n",
    "\n",
    "    #Design          23132.730636       usd pledged\n",
    "\n",
    "    #Games           22622.060660        \"\"  \"\"  \n",
    "   #Technology      20898.350418         \"\"   \"\"\n",
    "    \n",
    "# from main_category kickstarter should focus on by  backers:\n",
    "\n",
    "  #Design          268.927566\n",
    "\n",
    "  #Games           386.230282\n",
    "\n",
    "   #Technology      187.457750\n",
    "\n",
    "\n",
    "# from the category kickstarter should focus on by usd pledged: \n",
    "#category\n",
    "   #3D Printing    70321.848632\n",
    "   #Accessories     7047.600829\n",
    "    #Action          4128.312842\n",
    "   \n",
    "    \n",
    "    \n",
    "    \n",
    "# from the  category kickstarter should focus on by backers: \n",
    "\n",
    "   #3D Printing    273.092308    number of\n",
    "   #Accessories     99.114499     backers\n",
    "   #Action          59.240404     \"\" \"\"\n",
    "\n",
    "#1.\tWhat main category is the most profitable (highest amount of money pledged)? \n",
    "\n",
    "   # design is the most profitable ,   23132.730636 usd pledged\n",
    "    \n",
    " #2.\tWhich main category is the most popular (highest number of backers)?\n",
    "   \n",
    "      #Games  386.230282 backers\n",
    "\n",
    "#3.\tWhich sub-categories are the most profitable and popular (top 3)?\n",
    "    \n",
    "         # most profitable\n",
    "    #3D Printing    70321.848632\n",
    "   #Accessories     7047.600829\n",
    "    #Action          4128.312842\n",
    "    \n",
    "    \n",
    "            #most popular\n",
    "     #3D Printing    273.092308    number of\n",
    "   #Accessories     99.114499     backers\n",
    "   #Action          59.240404     \"\" \"\"\n",
    "\n",
    "    \n",
    " \n",
    "\n",
    "  #4.What are some of the characteristics of a successful Kickstarter campaign? \n",
    "   \n",
    "    #the kickstarter campaign interms of usd pledged and backers it is so successful\n",
    "\n",
    "    # based on usd pledged\n",
    "   #state\n",
    "  #  failed         1279.467288\n",
    "  #successful    19442.292414\n",
    "        \n",
    "        #based on backers\n",
    "    #df['backers'].groupby(df['state']).mean()\n",
    "     # state\n",
    "     #failed         16.768301\n",
    "    #successful    253.665538\n",
    "\n",
    "\n",
    "\n",
    "  #5.How does the success or failure of Kickstarter campaigns differ between main category, sub-category, country, and length of campaign? Please mention only the most notable – you do not need to detail the success/failure rate for each category/sub-category? \n",
    "  \n",
    "    \n",
    "          #the kickstarter campaign regarding main category, sub category and length of campaign the failure is greater than the success,interm of country the SG,FR and US are the top 3 country having more backers. \n",
    "    \n",
    "    \n",
    "    \n",
    "    \n",
    "    \n",
    "    \n",
    "    \n",
    "\n",
    "  \n",
    "\n",
    "\n"
   ]
  },
  {
   "cell_type": "code",
   "execution_count": null,
   "metadata": {},
   "outputs": [],
   "source": []
  }
 ],
 "metadata": {
  "kernelspec": {
   "display_name": "Python 3 (ipykernel)",
   "language": "python",
   "name": "python3"
  },
  "language_info": {
   "codemirror_mode": {
    "name": "ipython",
    "version": 3
   },
   "file_extension": ".py",
   "mimetype": "text/x-python",
   "name": "python",
   "nbconvert_exporter": "python",
   "pygments_lexer": "ipython3",
   "version": "3.9.7"
  }
 },
 "nbformat": 4,
 "nbformat_minor": 4
}
